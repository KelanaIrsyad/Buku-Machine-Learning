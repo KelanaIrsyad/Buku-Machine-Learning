{
  "cells": [
    {
      "cell_type": "markdown",
      "metadata": {
        "id": "jJloAJ4k0CCX"
      },
      "source": [
        "# Binning dengan ketentuan sendiri"
      ]
    },
    {
      "cell_type": "code",
      "execution_count": 1,
      "metadata": {
        "id": "RgbJN4H60CCZ"
      },
      "outputs": [],
      "source": [
        "from sklearn.pipeline import Pipeline\n",
        "import pandas as pd\n",
        "import numpy as np"
      ]
    },
    {
      "cell_type": "code",
      "execution_count": 2,
      "metadata": {
        "id": "2AjrePS60CCa",
        "outputId": "e18b586b-0706-4909-93f9-1307b06c94e8",
        "colab": {
          "base_uri": "https://localhost:8080/",
          "height": 238
        }
      },
      "outputs": [
        {
          "output_type": "execute_result",
          "data": {
            "text/plain": [
              "             Nama Status Rumah  Gaji Orang Tua  Keterangan\n",
              "0      aldi taher      Kontrak         2100000         NaN\n",
              "1          kekeyi        Milik         4000000         NaN\n",
              "2   rangga sasana      Kontrak         1400000         NaN\n",
              "3  vicky prasetyo      Kontrak          700000         NaN\n",
              "4            Zuko        Milik          650000         NaN\n",
              "5           dyrga      Kontrak          450000         NaN"
            ],
            "text/html": [
              "\n",
              "  <div id=\"df-26660bbe-7538-4d2c-94be-c8ad509a62fe\" class=\"colab-df-container\">\n",
              "    <div>\n",
              "<style scoped>\n",
              "    .dataframe tbody tr th:only-of-type {\n",
              "        vertical-align: middle;\n",
              "    }\n",
              "\n",
              "    .dataframe tbody tr th {\n",
              "        vertical-align: top;\n",
              "    }\n",
              "\n",
              "    .dataframe thead th {\n",
              "        text-align: right;\n",
              "    }\n",
              "</style>\n",
              "<table border=\"1\" class=\"dataframe\">\n",
              "  <thead>\n",
              "    <tr style=\"text-align: right;\">\n",
              "      <th></th>\n",
              "      <th>Nama</th>\n",
              "      <th>Status Rumah</th>\n",
              "      <th>Gaji Orang Tua</th>\n",
              "      <th>Keterangan</th>\n",
              "    </tr>\n",
              "  </thead>\n",
              "  <tbody>\n",
              "    <tr>\n",
              "      <th>0</th>\n",
              "      <td>aldi taher</td>\n",
              "      <td>Kontrak</td>\n",
              "      <td>2100000</td>\n",
              "      <td>NaN</td>\n",
              "    </tr>\n",
              "    <tr>\n",
              "      <th>1</th>\n",
              "      <td>kekeyi</td>\n",
              "      <td>Milik</td>\n",
              "      <td>4000000</td>\n",
              "      <td>NaN</td>\n",
              "    </tr>\n",
              "    <tr>\n",
              "      <th>2</th>\n",
              "      <td>rangga sasana</td>\n",
              "      <td>Kontrak</td>\n",
              "      <td>1400000</td>\n",
              "      <td>NaN</td>\n",
              "    </tr>\n",
              "    <tr>\n",
              "      <th>3</th>\n",
              "      <td>vicky prasetyo</td>\n",
              "      <td>Kontrak</td>\n",
              "      <td>700000</td>\n",
              "      <td>NaN</td>\n",
              "    </tr>\n",
              "    <tr>\n",
              "      <th>4</th>\n",
              "      <td>Zuko</td>\n",
              "      <td>Milik</td>\n",
              "      <td>650000</td>\n",
              "      <td>NaN</td>\n",
              "    </tr>\n",
              "    <tr>\n",
              "      <th>5</th>\n",
              "      <td>dyrga</td>\n",
              "      <td>Kontrak</td>\n",
              "      <td>450000</td>\n",
              "      <td>NaN</td>\n",
              "    </tr>\n",
              "  </tbody>\n",
              "</table>\n",
              "</div>\n",
              "    <div class=\"colab-df-buttons\">\n",
              "\n",
              "  <div class=\"colab-df-container\">\n",
              "    <button class=\"colab-df-convert\" onclick=\"convertToInteractive('df-26660bbe-7538-4d2c-94be-c8ad509a62fe')\"\n",
              "            title=\"Convert this dataframe to an interactive table.\"\n",
              "            style=\"display:none;\">\n",
              "\n",
              "  <svg xmlns=\"http://www.w3.org/2000/svg\" height=\"24px\" viewBox=\"0 -960 960 960\">\n",
              "    <path d=\"M120-120v-720h720v720H120Zm60-500h600v-160H180v160Zm220 220h160v-160H400v160Zm0 220h160v-160H400v160ZM180-400h160v-160H180v160Zm440 0h160v-160H620v160ZM180-180h160v-160H180v160Zm440 0h160v-160H620v160Z\"/>\n",
              "  </svg>\n",
              "    </button>\n",
              "\n",
              "  <style>\n",
              "    .colab-df-container {\n",
              "      display:flex;\n",
              "      gap: 12px;\n",
              "    }\n",
              "\n",
              "    .colab-df-convert {\n",
              "      background-color: #E8F0FE;\n",
              "      border: none;\n",
              "      border-radius: 50%;\n",
              "      cursor: pointer;\n",
              "      display: none;\n",
              "      fill: #1967D2;\n",
              "      height: 32px;\n",
              "      padding: 0 0 0 0;\n",
              "      width: 32px;\n",
              "    }\n",
              "\n",
              "    .colab-df-convert:hover {\n",
              "      background-color: #E2EBFA;\n",
              "      box-shadow: 0px 1px 2px rgba(60, 64, 67, 0.3), 0px 1px 3px 1px rgba(60, 64, 67, 0.15);\n",
              "      fill: #174EA6;\n",
              "    }\n",
              "\n",
              "    .colab-df-buttons div {\n",
              "      margin-bottom: 4px;\n",
              "    }\n",
              "\n",
              "    [theme=dark] .colab-df-convert {\n",
              "      background-color: #3B4455;\n",
              "      fill: #D2E3FC;\n",
              "    }\n",
              "\n",
              "    [theme=dark] .colab-df-convert:hover {\n",
              "      background-color: #434B5C;\n",
              "      box-shadow: 0px 1px 3px 1px rgba(0, 0, 0, 0.15);\n",
              "      filter: drop-shadow(0px 1px 2px rgba(0, 0, 0, 0.3));\n",
              "      fill: #FFFFFF;\n",
              "    }\n",
              "  </style>\n",
              "\n",
              "    <script>\n",
              "      const buttonEl =\n",
              "        document.querySelector('#df-26660bbe-7538-4d2c-94be-c8ad509a62fe button.colab-df-convert');\n",
              "      buttonEl.style.display =\n",
              "        google.colab.kernel.accessAllowed ? 'block' : 'none';\n",
              "\n",
              "      async function convertToInteractive(key) {\n",
              "        const element = document.querySelector('#df-26660bbe-7538-4d2c-94be-c8ad509a62fe');\n",
              "        const dataTable =\n",
              "          await google.colab.kernel.invokeFunction('convertToInteractive',\n",
              "                                                    [key], {});\n",
              "        if (!dataTable) return;\n",
              "\n",
              "        const docLinkHtml = 'Like what you see? Visit the ' +\n",
              "          '<a target=\"_blank\" href=https://colab.research.google.com/notebooks/data_table.ipynb>data table notebook</a>'\n",
              "          + ' to learn more about interactive tables.';\n",
              "        element.innerHTML = '';\n",
              "        dataTable['output_type'] = 'display_data';\n",
              "        await google.colab.output.renderOutput(dataTable, element);\n",
              "        const docLink = document.createElement('div');\n",
              "        docLink.innerHTML = docLinkHtml;\n",
              "        element.appendChild(docLink);\n",
              "      }\n",
              "    </script>\n",
              "  </div>\n",
              "\n",
              "\n",
              "    <div id=\"df-7ee67983-60cc-4fc4-be46-e98b72ae7f4a\">\n",
              "      <button class=\"colab-df-quickchart\" onclick=\"quickchart('df-7ee67983-60cc-4fc4-be46-e98b72ae7f4a')\"\n",
              "                title=\"Suggest charts\"\n",
              "                style=\"display:none;\">\n",
              "\n",
              "<svg xmlns=\"http://www.w3.org/2000/svg\" height=\"24px\"viewBox=\"0 0 24 24\"\n",
              "     width=\"24px\">\n",
              "    <g>\n",
              "        <path d=\"M19 3H5c-1.1 0-2 .9-2 2v14c0 1.1.9 2 2 2h14c1.1 0 2-.9 2-2V5c0-1.1-.9-2-2-2zM9 17H7v-7h2v7zm4 0h-2V7h2v10zm4 0h-2v-4h2v4z\"/>\n",
              "    </g>\n",
              "</svg>\n",
              "      </button>\n",
              "\n",
              "<style>\n",
              "  .colab-df-quickchart {\n",
              "      --bg-color: #E8F0FE;\n",
              "      --fill-color: #1967D2;\n",
              "      --hover-bg-color: #E2EBFA;\n",
              "      --hover-fill-color: #174EA6;\n",
              "      --disabled-fill-color: #AAA;\n",
              "      --disabled-bg-color: #DDD;\n",
              "  }\n",
              "\n",
              "  [theme=dark] .colab-df-quickchart {\n",
              "      --bg-color: #3B4455;\n",
              "      --fill-color: #D2E3FC;\n",
              "      --hover-bg-color: #434B5C;\n",
              "      --hover-fill-color: #FFFFFF;\n",
              "      --disabled-bg-color: #3B4455;\n",
              "      --disabled-fill-color: #666;\n",
              "  }\n",
              "\n",
              "  .colab-df-quickchart {\n",
              "    background-color: var(--bg-color);\n",
              "    border: none;\n",
              "    border-radius: 50%;\n",
              "    cursor: pointer;\n",
              "    display: none;\n",
              "    fill: var(--fill-color);\n",
              "    height: 32px;\n",
              "    padding: 0;\n",
              "    width: 32px;\n",
              "  }\n",
              "\n",
              "  .colab-df-quickchart:hover {\n",
              "    background-color: var(--hover-bg-color);\n",
              "    box-shadow: 0 1px 2px rgba(60, 64, 67, 0.3), 0 1px 3px 1px rgba(60, 64, 67, 0.15);\n",
              "    fill: var(--button-hover-fill-color);\n",
              "  }\n",
              "\n",
              "  .colab-df-quickchart-complete:disabled,\n",
              "  .colab-df-quickchart-complete:disabled:hover {\n",
              "    background-color: var(--disabled-bg-color);\n",
              "    fill: var(--disabled-fill-color);\n",
              "    box-shadow: none;\n",
              "  }\n",
              "\n",
              "  .colab-df-spinner {\n",
              "    border: 2px solid var(--fill-color);\n",
              "    border-color: transparent;\n",
              "    border-bottom-color: var(--fill-color);\n",
              "    animation:\n",
              "      spin 1s steps(1) infinite;\n",
              "  }\n",
              "\n",
              "  @keyframes spin {\n",
              "    0% {\n",
              "      border-color: transparent;\n",
              "      border-bottom-color: var(--fill-color);\n",
              "      border-left-color: var(--fill-color);\n",
              "    }\n",
              "    20% {\n",
              "      border-color: transparent;\n",
              "      border-left-color: var(--fill-color);\n",
              "      border-top-color: var(--fill-color);\n",
              "    }\n",
              "    30% {\n",
              "      border-color: transparent;\n",
              "      border-left-color: var(--fill-color);\n",
              "      border-top-color: var(--fill-color);\n",
              "      border-right-color: var(--fill-color);\n",
              "    }\n",
              "    40% {\n",
              "      border-color: transparent;\n",
              "      border-right-color: var(--fill-color);\n",
              "      border-top-color: var(--fill-color);\n",
              "    }\n",
              "    60% {\n",
              "      border-color: transparent;\n",
              "      border-right-color: var(--fill-color);\n",
              "    }\n",
              "    80% {\n",
              "      border-color: transparent;\n",
              "      border-right-color: var(--fill-color);\n",
              "      border-bottom-color: var(--fill-color);\n",
              "    }\n",
              "    90% {\n",
              "      border-color: transparent;\n",
              "      border-bottom-color: var(--fill-color);\n",
              "    }\n",
              "  }\n",
              "</style>\n",
              "\n",
              "      <script>\n",
              "        async function quickchart(key) {\n",
              "          const quickchartButtonEl =\n",
              "            document.querySelector('#' + key + ' button');\n",
              "          quickchartButtonEl.disabled = true;  // To prevent multiple clicks.\n",
              "          quickchartButtonEl.classList.add('colab-df-spinner');\n",
              "          try {\n",
              "            const charts = await google.colab.kernel.invokeFunction(\n",
              "                'suggestCharts', [key], {});\n",
              "          } catch (error) {\n",
              "            console.error('Error during call to suggestCharts:', error);\n",
              "          }\n",
              "          quickchartButtonEl.classList.remove('colab-df-spinner');\n",
              "          quickchartButtonEl.classList.add('colab-df-quickchart-complete');\n",
              "        }\n",
              "        (() => {\n",
              "          let quickchartButtonEl =\n",
              "            document.querySelector('#df-7ee67983-60cc-4fc4-be46-e98b72ae7f4a button');\n",
              "          quickchartButtonEl.style.display =\n",
              "            google.colab.kernel.accessAllowed ? 'block' : 'none';\n",
              "        })();\n",
              "      </script>\n",
              "    </div>\n",
              "\n",
              "    </div>\n",
              "  </div>\n"
            ],
            "application/vnd.google.colaboratory.intrinsic+json": {
              "type": "dataframe",
              "variable_name": "data",
              "summary": "{\n  \"name\": \"data\",\n  \"rows\": 6,\n  \"fields\": [\n    {\n      \"column\": \"Nama\",\n      \"properties\": {\n        \"dtype\": \"string\",\n        \"num_unique_values\": 6,\n        \"samples\": [\n          \"aldi taher\",\n          \"kekeyi\",\n          \"dyrga\"\n        ],\n        \"semantic_type\": \"\",\n        \"description\": \"\"\n      }\n    },\n    {\n      \"column\": \"Status Rumah\",\n      \"properties\": {\n        \"dtype\": \"category\",\n        \"num_unique_values\": 2,\n        \"samples\": [\n          \"Milik\",\n          \"Kontrak\"\n        ],\n        \"semantic_type\": \"\",\n        \"description\": \"\"\n      }\n    },\n    {\n      \"column\": \"Gaji Orang Tua\",\n      \"properties\": {\n        \"dtype\": \"number\",\n        \"std\": 1346848,\n        \"min\": 450000,\n        \"max\": 4000000,\n        \"num_unique_values\": 6,\n        \"samples\": [\n          2100000,\n          4000000\n        ],\n        \"semantic_type\": \"\",\n        \"description\": \"\"\n      }\n    },\n    {\n      \"column\": \"Keterangan\",\n      \"properties\": {\n        \"dtype\": \"number\",\n        \"std\": null,\n        \"min\": null,\n        \"max\": null,\n        \"num_unique_values\": 0,\n        \"samples\": [],\n        \"semantic_type\": \"\",\n        \"description\": \"\"\n      }\n    }\n  ]\n}"
            }
          },
          "metadata": {},
          "execution_count": 2
        }
      ],
      "source": [
        "data = pd.read_csv('datasetgaji.csv', sep=',')\n",
        "data.head(6)"
      ]
    },
    {
      "cell_type": "code",
      "execution_count": 3,
      "metadata": {
        "id": "FmGrcrJt0CCb"
      },
      "outputs": [],
      "source": [
        "batas_bin = [0, 1400000, 4000000]"
      ]
    },
    {
      "cell_type": "code",
      "execution_count": 4,
      "metadata": {
        "id": "6bxZOFQU0CCb"
      },
      "outputs": [],
      "source": [
        "kategori = ['Kecil','Besar']"
      ]
    },
    {
      "cell_type": "code",
      "execution_count": 5,
      "metadata": {
        "id": "WrE2M1nd0CCb"
      },
      "outputs": [],
      "source": [
        "data['gaji_binned_1'] = pd.cut(data['Gaji Orang Tua'], bins=batas_bin, labels=kategori)"
      ]
    },
    {
      "cell_type": "code",
      "execution_count": 6,
      "metadata": {
        "id": "thZ_wMsX0CCc",
        "outputId": "20cd5536-7484-409f-9417-0179f514766c",
        "colab": {
          "base_uri": "https://localhost:8080/"
        }
      },
      "outputs": [
        {
          "output_type": "stream",
          "name": "stdout",
          "text": [
            "             Nama Status Rumah  Gaji Orang Tua  Keterangan gaji_binned_1\n",
            "0      aldi taher      Kontrak         2100000         NaN         Besar\n",
            "1          kekeyi        Milik         4000000         NaN         Besar\n",
            "2   rangga sasana      Kontrak         1400000         NaN         Kecil\n",
            "3  vicky prasetyo      Kontrak          700000         NaN         Kecil\n",
            "4            Zuko        Milik          650000         NaN         Kecil\n",
            "5           dyrga      Kontrak          450000         NaN         Kecil\n"
          ]
        }
      ],
      "source": [
        "print(data)"
      ]
    },
    {
      "cell_type": "markdown",
      "metadata": {
        "id": "2Xvw4-ty0CCc"
      },
      "source": [
        "# Binning dengan linspace"
      ]
    },
    {
      "cell_type": "code",
      "execution_count": 7,
      "metadata": {
        "id": "URwMMAHW0CCc"
      },
      "outputs": [],
      "source": [
        "bins = np.linspace(min(data['Gaji Orang Tua']), max(data['Gaji Orang Tua']), 3)"
      ]
    },
    {
      "cell_type": "code",
      "execution_count": 8,
      "metadata": {
        "id": "Run1hPlj0CCd",
        "outputId": "50c30cb6-bdbe-449a-ceb0-2f772487f0a3",
        "colab": {
          "base_uri": "https://localhost:8080/"
        }
      },
      "outputs": [
        {
          "output_type": "stream",
          "name": "stdout",
          "text": [
            "[ 450000. 2225000. 4000000.]\n"
          ]
        }
      ],
      "source": [
        "print(bins)\n"
      ]
    },
    {
      "cell_type": "code",
      "execution_count": 9,
      "metadata": {
        "id": "9OVu-S_v0CCd"
      },
      "outputs": [],
      "source": [
        "kategori = ['Kecil','Besar']"
      ]
    },
    {
      "cell_type": "code",
      "execution_count": 10,
      "metadata": {
        "id": "eIXI7eGZ0CCd"
      },
      "outputs": [],
      "source": [
        "data['gaji_binned2'] = pd.cut(data['Gaji Orang Tua'], bins=bins, labels=kategori, include_lowest=True)"
      ]
    },
    {
      "cell_type": "code",
      "execution_count": 11,
      "metadata": {
        "id": "IeQIcFx80CCe",
        "outputId": "9f14ca21-c751-453a-d732-bb8d20b72beb",
        "colab": {
          "base_uri": "https://localhost:8080/"
        }
      },
      "outputs": [
        {
          "output_type": "stream",
          "name": "stdout",
          "text": [
            "             Nama Status Rumah  Gaji Orang Tua  Keterangan gaji_binned_1  \\\n",
            "0      aldi taher      Kontrak         2100000         NaN         Besar   \n",
            "1          kekeyi        Milik         4000000         NaN         Besar   \n",
            "2   rangga sasana      Kontrak         1400000         NaN         Kecil   \n",
            "3  vicky prasetyo      Kontrak          700000         NaN         Kecil   \n",
            "4            Zuko        Milik          650000         NaN         Kecil   \n",
            "5           dyrga      Kontrak          450000         NaN         Kecil   \n",
            "\n",
            "  gaji_binned2  \n",
            "0        Kecil  \n",
            "1        Besar  \n",
            "2        Kecil  \n",
            "3        Kecil  \n",
            "4        Kecil  \n",
            "5        Kecil  \n"
          ]
        }
      ],
      "source": [
        "print (data)\n"
      ]
    },
    {
      "cell_type": "markdown",
      "metadata": {
        "id": "JrhZlsyR0CCe"
      },
      "source": [
        "# Binning dengan Quantile"
      ]
    },
    {
      "cell_type": "code",
      "execution_count": 12,
      "metadata": {
        "id": "Q1jjnzce0CCe",
        "outputId": "5f664337-12a9-4de7-c017-96030b3fe85e",
        "colab": {
          "base_uri": "https://localhost:8080/"
        }
      },
      "outputs": [
        {
          "output_type": "stream",
          "name": "stdout",
          "text": [
            "             Nama Status Rumah  Gaji Orang Tua  Keterangan gaji_binned_1  \\\n",
            "0      aldi taher      Kontrak         2100000         NaN         Besar   \n",
            "1          kekeyi        Milik         4000000         NaN         Besar   \n",
            "2   rangga sasana      Kontrak         1400000         NaN         Kecil   \n",
            "3  vicky prasetyo      Kontrak          700000         NaN         Kecil   \n",
            "4            Zuko        Milik          650000         NaN         Kecil   \n",
            "5           dyrga      Kontrak          450000         NaN         Kecil   \n",
            "\n",
            "  gaji_binned2             Gaji_binned3  \n",
            "0        Kecil   (1050000.0, 4000000.0]  \n",
            "1        Besar   (1050000.0, 4000000.0]  \n",
            "2        Kecil   (1050000.0, 4000000.0]  \n",
            "3        Kecil  (449999.999, 1050000.0]  \n",
            "4        Kecil  (449999.999, 1050000.0]  \n",
            "5        Kecil  (449999.999, 1050000.0]  \n"
          ]
        }
      ],
      "source": [
        "data['Gaji_binned3'] = pd.qcut(data['Gaji Orang Tua'], 2)\n",
        "print (data)"
      ]
    },
    {
      "cell_type": "code",
      "execution_count": 13,
      "metadata": {
        "id": "61AvRfHA0CCe",
        "outputId": "7ec6c0fb-d052-46ee-c25f-b9566f3a2828",
        "colab": {
          "base_uri": "https://localhost:8080/"
        }
      },
      "outputs": [
        {
          "output_type": "stream",
          "name": "stdout",
          "text": [
            "             Nama Status Rumah  Gaji Orang Tua  Keterangan gaji_binned_1  \\\n",
            "0      aldi taher      Kontrak         2100000         NaN         Besar   \n",
            "1          kekeyi        Milik         4000000         NaN         Besar   \n",
            "2   rangga sasana      Kontrak         1400000         NaN         Kecil   \n",
            "3  vicky prasetyo      Kontrak          700000         NaN         Kecil   \n",
            "4            Zuko        Milik          650000         NaN         Kecil   \n",
            "5           dyrga      Kontrak          450000         NaN         Kecil   \n",
            "\n",
            "  gaji_binned2 Gaji_binned3  \n",
            "0        Kecil        Besar  \n",
            "1        Besar        Besar  \n",
            "2        Kecil        Besar  \n",
            "3        Kecil        Kecil  \n",
            "4        Kecil        Kecil  \n",
            "5        Kecil        Kecil  \n"
          ]
        }
      ],
      "source": [
        "kategori = ['Kecil','Besar']\n",
        "data['Gaji_binned3'] = pd.qcut(data['Gaji Orang Tua'], q=2, labels=kategori)\n",
        "print (data)"
      ]
    },
    {
      "cell_type": "code",
      "execution_count": null,
      "metadata": {
        "id": "XzO-XIZz0CCf"
      },
      "outputs": [],
      "source": []
    }
  ],
  "metadata": {
    "kernelspec": {
      "display_name": "Python 3",
      "language": "python",
      "name": "python3"
    },
    "language_info": {
      "codemirror_mode": {
        "name": "ipython",
        "version": 3
      },
      "file_extension": ".py",
      "mimetype": "text/x-python",
      "name": "python",
      "nbconvert_exporter": "python",
      "pygments_lexer": "ipython3",
      "version": "3.8.3"
    },
    "colab": {
      "provenance": []
    }
  },
  "nbformat": 4,
  "nbformat_minor": 0
}